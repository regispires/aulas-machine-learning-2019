{
 "cells": [
  {
   "cell_type": "markdown",
   "metadata": {},
   "source": [
    "# Regularizações / Coeficientes\n",
    "- l1\n",
    "- l2\n",
    "- elasticnet"
   ]
  },
  {
   "cell_type": "code",
   "execution_count": 22,
   "metadata": {
    "collapsed": true
   },
   "outputs": [],
   "source": [
    "import numpy as np\n",
    "import pandas as pd\n",
    "from sklearn import linear_model\n",
    "from sklearn.model_selection import train_test_split\n",
    "from sklearn.preprocessing import StandardScaler\n",
    "from sklearn.metrics import accuracy_score"
   ]
  },
  {
   "cell_type": "code",
   "execution_count": 12,
   "metadata": {},
   "outputs": [
    {
     "name": "stdout",
     "output_type": "stream",
     "text": [
      "Class labels [1 2 3]\n"
     ]
    },
    {
     "data": {
      "text/html": [
       "<div>\n",
       "<style>\n",
       "    .dataframe thead tr:only-child th {\n",
       "        text-align: right;\n",
       "    }\n",
       "\n",
       "    .dataframe thead th {\n",
       "        text-align: left;\n",
       "    }\n",
       "\n",
       "    .dataframe tbody tr th {\n",
       "        vertical-align: top;\n",
       "    }\n",
       "</style>\n",
       "<table border=\"1\" class=\"dataframe\">\n",
       "  <thead>\n",
       "    <tr style=\"text-align: right;\">\n",
       "      <th></th>\n",
       "      <th>Class label</th>\n",
       "      <th>Alcohol</th>\n",
       "      <th>Malic acid</th>\n",
       "      <th>Ash</th>\n",
       "      <th>Alcalinity of ash</th>\n",
       "      <th>Magnesium</th>\n",
       "      <th>Total phenols</th>\n",
       "      <th>Flavanoids</th>\n",
       "      <th>Nonflavanoid phenols</th>\n",
       "      <th>Proanthocyanins</th>\n",
       "      <th>Color intensity</th>\n",
       "      <th>Hue</th>\n",
       "      <th>OD280/OD315 of diluted wines</th>\n",
       "      <th>Proline</th>\n",
       "    </tr>\n",
       "  </thead>\n",
       "  <tbody>\n",
       "    <tr>\n",
       "      <th>0</th>\n",
       "      <td>1</td>\n",
       "      <td>14.23</td>\n",
       "      <td>1.71</td>\n",
       "      <td>2.43</td>\n",
       "      <td>15.6</td>\n",
       "      <td>127</td>\n",
       "      <td>2.80</td>\n",
       "      <td>3.06</td>\n",
       "      <td>0.28</td>\n",
       "      <td>2.29</td>\n",
       "      <td>5.64</td>\n",
       "      <td>1.04</td>\n",
       "      <td>3.92</td>\n",
       "      <td>1065</td>\n",
       "    </tr>\n",
       "    <tr>\n",
       "      <th>1</th>\n",
       "      <td>1</td>\n",
       "      <td>13.20</td>\n",
       "      <td>1.78</td>\n",
       "      <td>2.14</td>\n",
       "      <td>11.2</td>\n",
       "      <td>100</td>\n",
       "      <td>2.65</td>\n",
       "      <td>2.76</td>\n",
       "      <td>0.26</td>\n",
       "      <td>1.28</td>\n",
       "      <td>4.38</td>\n",
       "      <td>1.05</td>\n",
       "      <td>3.40</td>\n",
       "      <td>1050</td>\n",
       "    </tr>\n",
       "    <tr>\n",
       "      <th>2</th>\n",
       "      <td>1</td>\n",
       "      <td>13.16</td>\n",
       "      <td>2.36</td>\n",
       "      <td>2.67</td>\n",
       "      <td>18.6</td>\n",
       "      <td>101</td>\n",
       "      <td>2.80</td>\n",
       "      <td>3.24</td>\n",
       "      <td>0.30</td>\n",
       "      <td>2.81</td>\n",
       "      <td>5.68</td>\n",
       "      <td>1.03</td>\n",
       "      <td>3.17</td>\n",
       "      <td>1185</td>\n",
       "    </tr>\n",
       "    <tr>\n",
       "      <th>3</th>\n",
       "      <td>1</td>\n",
       "      <td>14.37</td>\n",
       "      <td>1.95</td>\n",
       "      <td>2.50</td>\n",
       "      <td>16.8</td>\n",
       "      <td>113</td>\n",
       "      <td>3.85</td>\n",
       "      <td>3.49</td>\n",
       "      <td>0.24</td>\n",
       "      <td>2.18</td>\n",
       "      <td>7.80</td>\n",
       "      <td>0.86</td>\n",
       "      <td>3.45</td>\n",
       "      <td>1480</td>\n",
       "    </tr>\n",
       "    <tr>\n",
       "      <th>4</th>\n",
       "      <td>1</td>\n",
       "      <td>13.24</td>\n",
       "      <td>2.59</td>\n",
       "      <td>2.87</td>\n",
       "      <td>21.0</td>\n",
       "      <td>118</td>\n",
       "      <td>2.80</td>\n",
       "      <td>2.69</td>\n",
       "      <td>0.39</td>\n",
       "      <td>1.82</td>\n",
       "      <td>4.32</td>\n",
       "      <td>1.04</td>\n",
       "      <td>2.93</td>\n",
       "      <td>735</td>\n",
       "    </tr>\n",
       "  </tbody>\n",
       "</table>\n",
       "</div>"
      ],
      "text/plain": [
       "   Class label  Alcohol  Malic acid   Ash  Alcalinity of ash  Magnesium  \\\n",
       "0            1    14.23        1.71  2.43               15.6        127   \n",
       "1            1    13.20        1.78  2.14               11.2        100   \n",
       "2            1    13.16        2.36  2.67               18.6        101   \n",
       "3            1    14.37        1.95  2.50               16.8        113   \n",
       "4            1    13.24        2.59  2.87               21.0        118   \n",
       "\n",
       "   Total phenols  Flavanoids  Nonflavanoid phenols  Proanthocyanins  \\\n",
       "0           2.80        3.06                  0.28             2.29   \n",
       "1           2.65        2.76                  0.26             1.28   \n",
       "2           2.80        3.24                  0.30             2.81   \n",
       "3           3.85        3.49                  0.24             2.18   \n",
       "4           2.80        2.69                  0.39             1.82   \n",
       "\n",
       "   Color intensity   Hue  OD280/OD315 of diluted wines  Proline  \n",
       "0             5.64  1.04                          3.92     1065  \n",
       "1             4.38  1.05                          3.40     1050  \n",
       "2             5.68  1.03                          3.17     1185  \n",
       "3             7.80  0.86                          3.45     1480  \n",
       "4             4.32  1.04                          2.93      735  "
      ]
     },
     "execution_count": 12,
     "metadata": {},
     "output_type": "execute_result"
    }
   ],
   "source": [
    "# https://archive.ics.uci.edu/ml/machine-learning-databases/wine/wine.data\n",
    "df_wine = pd.read_csv('datasets/wine.data', header=None)\n",
    "\n",
    "\n",
    "df_wine.columns = ['Class label', 'Alcohol', 'Malic acid', 'Ash',\n",
    "                   'Alcalinity of ash', 'Magnesium', 'Total phenols',\n",
    "                   'Flavanoids', 'Nonflavanoid phenols', 'Proanthocyanins',\n",
    "                   'Color intensity', 'Hue', 'OD280/OD315 of diluted wines',\n",
    "                   'Proline']\n",
    "\n",
    "print('Class labels', np.unique(df_wine['Class label']))\n",
    "df_wine.head()"
   ]
  },
  {
   "cell_type": "code",
   "execution_count": 13,
   "metadata": {
    "collapsed": true
   },
   "outputs": [],
   "source": [
    "X, y = df_wine.iloc[:, 1:].values, df_wine.iloc[:, 0].values\n",
    "\n",
    "X_train, X_test, y_train, y_test =\\\n",
    "    train_test_split(X, y, \n",
    "                     test_size=0.3, \n",
    "                     random_state=0, \n",
    "                     stratify=y)"
   ]
  },
  {
   "cell_type": "code",
   "execution_count": 15,
   "metadata": {
    "collapsed": true
   },
   "outputs": [],
   "source": [
    "stdsc = StandardScaler()\n",
    "X_train_std = stdsc.fit_transform(X_train)\n",
    "X_test_std = stdsc.transform(X_test)"
   ]
  },
  {
   "cell_type": "code",
   "execution_count": 76,
   "metadata": {},
   "outputs": [
    {
     "name": "stdout",
     "output_type": "stream",
     "text": [
      "X.shape:(178, 13)\n",
      "np.unique(y):[1 2 3]\n",
      "accuracy_score:1.0\n",
      "intercept_:\n",
      "[-1.26336366 -1.21618634 -2.37024246]\n",
      "coef_:\n",
      "[[ 1.24570162  0.18080713  0.74353603 -1.16136393  0.          0.\n",
      "   1.17018229  0.          0.          0.          0.          0.54694578\n",
      "   2.5105225 ]\n",
      " [-1.53703752 -0.38783998 -0.99522581  0.36515494 -0.05971764  0.\n",
      "   0.6679069   0.          0.         -1.93444244  1.23318828  0.\n",
      "  -2.23120752]\n",
      " [ 0.13569598  0.16855897  0.35714641  0.          0.          0.\n",
      "  -2.43805494  0.          0.          1.56356741 -0.81860375 -0.4927206\n",
      "   0.        ]]\n"
     ]
    }
   ],
   "source": [
    "model_none = linear_model.LogisticRegression(penalty='l1', random_state=0)\n",
    "model_none.fit(X_train_std, y_train)\n",
    "y_pred = model_none.predict(X_test_std)\n",
    "print('X.shape:{}'.format(X.shape))\n",
    "print('np.unique(y):{}'.format(np.unique(y)))\n",
    "print('accuracy_score:{}\\nintercept_:\\n{}\\ncoef_:\\n{}'.format(accuracy_score(y_test, y_pred), model_none.intercept_, model_none.coef_))"
   ]
  },
  {
   "cell_type": "code",
   "execution_count": 80,
   "metadata": {},
   "outputs": [
    {
     "name": "stdout",
     "output_type": "stream",
     "text": [
      "X.shape:(178, 13)\n",
      "np.unique(y):[1 2 3]\n",
      "accuracy_score:1.0\n",
      "intercept_:\n",
      "[-1.33509136 -0.96973542 -2.04898785]\n",
      "coef_:\n",
      "[[ 1.27713853  0.38210274  0.8015599  -1.30842842  0.22782837  0.23101419\n",
      "   0.90234371 -0.08423823  0.01462196 -0.0312838   0.02796323  0.71703048\n",
      "   1.79262118]\n",
      " [-1.45395571 -0.620303   -1.05445248  0.67148394 -0.29048951  0.18277571\n",
      "   0.51163918  0.10789643  0.08199321 -1.61228834  0.88800662  0.1659356\n",
      "  -1.73246957]\n",
      " [ 0.38965148  0.4083047   0.40211468  0.26242969  0.15288658 -0.20064653\n",
      "  -1.38792256 -0.06305419 -0.28440345  1.2553389  -0.93849662 -0.83821807\n",
      "   0.13754706]]\n"
     ]
    }
   ],
   "source": [
    "model_none = linear_model.LogisticRegression(penalty='l2', random_state=0)\n",
    "model_none.fit(X_train_std, y_train)\n",
    "y_pred = model_none.predict(X_test_std)\n",
    "print('X.shape:{}'.format(X.shape))\n",
    "print('np.unique(y):{}'.format(np.unique(y)))\n",
    "print('accuracy_score:{}\\nintercept_:\\n{}\\ncoef_:\\n{}'.format(accuracy_score(y_test, y_pred), model_none.intercept_, model_none.coef_))"
   ]
  },
  {
   "cell_type": "code",
   "execution_count": 79,
   "metadata": {},
   "outputs": [
    {
     "name": "stdout",
     "output_type": "stream",
     "text": [
      "X.shape:(178, 13)\n",
      "np.unique(y):[1 2 3]\n",
      "accuracy_score:1.0\n",
      "intercept_:\n",
      "[ 0.36862533  0.78036204 -1.14898737]\n",
      "coef_:\n",
      "[[ 0.78792639  0.24089338  0.4473384  -0.73489829  0.1113343   0.22607273\n",
      "   0.60652205 -0.14847572  0.24131476  0.14140959  0.10670518  0.58061102\n",
      "   0.98240089]\n",
      " [-0.95393153 -0.43668273 -0.76795841  0.50646632 -0.17622299  0.07110642\n",
      "   0.38809799  0.09343743  0.11353057 -0.91231356  0.61090399  0.16780023\n",
      "  -1.10002567]\n",
      " [ 0.16600514  0.19578935  0.32062001  0.22843197  0.06488869 -0.29717916\n",
      "  -0.99462004  0.05503829 -0.35484533  0.77090397 -0.71760916 -0.74841125\n",
      "   0.11762478]]\n"
     ]
    }
   ],
   "source": [
    "model_none = linear_model.LogisticRegression(multi_class='multinomial', solver='newton-cg', penalty='l2', random_state=0)\n",
    "model_none.fit(X_train_std, y_train)\n",
    "y_pred = model_none.predict(X_test_std)\n",
    "print('X.shape:{}'.format(X.shape))\n",
    "print('np.unique(y):{}'.format(np.unique(y)))\n",
    "print('accuracy_score:{}\\nintercept_:\\n{}\\ncoef_:\\n{}'.format(accuracy_score(y_test, y_pred), model_none.intercept_, model_none.coef_))"
   ]
  },
  {
   "cell_type": "code",
   "execution_count": 66,
   "metadata": {},
   "outputs": [
    {
     "name": "stdout",
     "output_type": "stream",
     "text": [
      "accuracy_score:1.0\n",
      "intercept_:\n",
      "[-142.68148912 -125.44735328 -276.67748864]\n",
      "coef_:\n",
      "[[  90.2812871    36.64948258   97.04085794 -125.41752433  -28.19064734\n",
      "    76.28288223   97.37681826  -41.40195898  -56.92549775   17.58870599\n",
      "    27.37182208   73.34084621  211.19599252]\n",
      " [-263.95993746  -81.35192407 -134.50534288   85.42530184   40.65883345\n",
      "     6.9551471   154.53036184  100.2277951   -28.48638801 -310.80926881\n",
      "   114.21362832    7.64180817 -230.50397619]\n",
      " [ 135.67707929    4.84753801   85.28769102  100.2663828    -3.63503296\n",
      "   -22.82533178 -171.25578945  -35.53445471  -51.06959705  152.05944999\n",
      "  -176.79823346 -170.17637065   93.74735741]]\n"
     ]
    }
   ],
   "source": [
    "model_none = linear_model.SGDClassifier(loss='modified_huber', penalty='none', random_state=0)\n",
    "model_none.fit(X_train_std, y_train)\n",
    "y_pred = model_none.predict(X_test_std)\n",
    "print('accuracy_score:{}\\nintercept_:\\n{}\\ncoef_:\\n{}'.format(accuracy_score(y_test, y_pred), model_none.intercept_, model_none.coef_))"
   ]
  },
  {
   "cell_type": "code",
   "execution_count": 67,
   "metadata": {},
   "outputs": [
    {
     "name": "stdout",
     "output_type": "stream",
     "text": [
      "accuracy_score:1.0\n",
      "intercept_:\n",
      "[-142.68148912 -125.44735328 -276.67748864]\n",
      "coef_:\n",
      "[[  90.2812871    36.64948258   97.04085794 -125.41752433  -28.19064734\n",
      "    76.28288223   97.37681826  -41.40195898  -56.92549775   17.58870599\n",
      "    27.37182208   73.34084621  211.19599252]\n",
      " [-263.95993746  -81.35192407 -134.50534288   85.42530184   40.65883345\n",
      "     6.9551471   154.53036184  100.2277951   -28.48638801 -310.80926881\n",
      "   114.21362832    7.64180817 -230.50397619]\n",
      " [ 135.67707929    4.84753801   85.28769102  100.2663828    -3.63503296\n",
      "   -22.82533178 -171.25578945  -35.53445471  -51.06959705  152.05944999\n",
      "  -176.79823346 -170.17637065   93.74735741]]\n"
     ]
    }
   ],
   "source": [
    "model_l1 = linear_model.SGDClassifier(loss='modified_huber', penalty='l1', random_state=0)\n",
    "model_l1.fit(X_train_std, y_train)\n",
    "y_pred = model_l1.predict(X_test_std)\n",
    "print('accuracy_score:{}\\nintercept_:\\n{}\\ncoef_:\\n{}'.format(accuracy_score(y_test, y_pred), model_none.intercept_, model_none.coef_))"
   ]
  },
  {
   "cell_type": "code",
   "execution_count": 68,
   "metadata": {},
   "outputs": [
    {
     "name": "stdout",
     "output_type": "stream",
     "text": [
      "accuracy_score:0.9814814814814815\n",
      "intercept_:\n",
      "[-142.68148912 -125.44735328 -276.67748864]\n",
      "coef_:\n",
      "[[  90.2812871    36.64948258   97.04085794 -125.41752433  -28.19064734\n",
      "    76.28288223   97.37681826  -41.40195898  -56.92549775   17.58870599\n",
      "    27.37182208   73.34084621  211.19599252]\n",
      " [-263.95993746  -81.35192407 -134.50534288   85.42530184   40.65883345\n",
      "     6.9551471   154.53036184  100.2277951   -28.48638801 -310.80926881\n",
      "   114.21362832    7.64180817 -230.50397619]\n",
      " [ 135.67707929    4.84753801   85.28769102  100.2663828    -3.63503296\n",
      "   -22.82533178 -171.25578945  -35.53445471  -51.06959705  152.05944999\n",
      "  -176.79823346 -170.17637065   93.74735741]]\n"
     ]
    }
   ],
   "source": [
    "model_l2 = linear_model.SGDClassifier(loss='modified_huber', penalty='l2', random_state=0,)\n",
    "model_l2.fit(X_train_std, y_train)\n",
    "y_pred = model_l2.predict(X_test_std)\n",
    "print('accuracy_score:{}\\nintercept_:\\n{}\\ncoef_:\\n{}'.format(accuracy_score(y_test, y_pred), model_none.intercept_, model_none.coef_))"
   ]
  },
  {
   "cell_type": "code",
   "execution_count": 69,
   "metadata": {},
   "outputs": [
    {
     "name": "stdout",
     "output_type": "stream",
     "text": [
      "accuracy_score:1.0\n",
      "intercept_:\n",
      "[-142.68148912 -125.44735328 -276.67748864]\n",
      "coef_:\n",
      "[[  90.2812871    36.64948258   97.04085794 -125.41752433  -28.19064734\n",
      "    76.28288223   97.37681826  -41.40195898  -56.92549775   17.58870599\n",
      "    27.37182208   73.34084621  211.19599252]\n",
      " [-263.95993746  -81.35192407 -134.50534288   85.42530184   40.65883345\n",
      "     6.9551471   154.53036184  100.2277951   -28.48638801 -310.80926881\n",
      "   114.21362832    7.64180817 -230.50397619]\n",
      " [ 135.67707929    4.84753801   85.28769102  100.2663828    -3.63503296\n",
      "   -22.82533178 -171.25578945  -35.53445471  -51.06959705  152.05944999\n",
      "  -176.79823346 -170.17637065   93.74735741]]\n"
     ]
    }
   ],
   "source": [
    "model = linear_model.SGDClassifier(loss='modified_huber', penalty='elasticnet', random_state=0)\n",
    "model.fit(X_train_std, y_train)\n",
    "y_pred = model.predict(X_test_std)\n",
    "print('accuracy_score:{}\\nintercept_:\\n{}\\ncoef_:\\n{}'.format(accuracy_score(y_test, y_pred), model_none.intercept_, model_none.coef_))"
   ]
  },
  {
   "cell_type": "code",
   "execution_count": 60,
   "metadata": {},
   "outputs": [
    {
     "data": {
      "text/plain": [
       "array([1, 2, 3])"
      ]
     },
     "execution_count": 60,
     "metadata": {},
     "output_type": "execute_result"
    }
   ],
   "source": [
    "np.unique(y)"
   ]
  },
  {
   "cell_type": "code",
   "execution_count": 61,
   "metadata": {},
   "outputs": [],
   "source": [
    "# loss: 'hinge', 'log', 'modified_huber', 'squared_hinge', 'perceptron', or a \n",
    "# regression loss: 'squared_loss', 'huber', 'epsilon_insensitive', or 'squared_epsilon_insensitive'"
   ]
  },
  {
   "cell_type": "code",
   "execution_count": null,
   "metadata": {
    "collapsed": true
   },
   "outputs": [],
   "source": []
  }
 ],
 "metadata": {
  "kernelspec": {
   "display_name": "Python 3",
   "language": "python",
   "name": "python3"
  },
  "language_info": {
   "codemirror_mode": {
    "name": "ipython",
    "version": 3
   },
   "file_extension": ".py",
   "mimetype": "text/x-python",
   "name": "python",
   "nbconvert_exporter": "python",
   "pygments_lexer": "ipython3",
   "version": "3.7.2"
  }
 },
 "nbformat": 4,
 "nbformat_minor": 2
}
