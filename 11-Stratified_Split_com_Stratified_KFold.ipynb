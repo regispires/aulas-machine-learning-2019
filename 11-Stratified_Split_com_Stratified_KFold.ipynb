{
 "cells": [
  {
   "cell_type": "markdown",
   "metadata": {},
   "source": [
    "# Stratified Split"
   ]
  },
  {
   "cell_type": "code",
   "execution_count": 1,
   "metadata": {
    "collapsed": true
   },
   "outputs": [],
   "source": [
    "from sklearn.model_selection import StratifiedShuffleSplit, StratifiedKFold, train_test_split\n",
    "from sklearn import datasets"
   ]
  },
  {
   "cell_type": "code",
   "execution_count": 4,
   "metadata": {
    "collapsed": true
   },
   "outputs": [],
   "source": [
    "splits = 3\n",
    "\n",
    "X = range(12)\n",
    "y = [0] * 6 + [1] * 6"
   ]
  },
  {
   "cell_type": "code",
   "execution_count": 14,
   "metadata": {
    "collapsed": true
   },
   "outputs": [],
   "source": [
    "X_train, X_test, y_train, y_test = train_test_split(X, y, test_size=0.3, random_state=42, stratify=y)"
   ]
  },
  {
   "cell_type": "code",
   "execution_count": 13,
   "metadata": {},
   "outputs": [
    {
     "data": {
      "text/plain": [
       "[0, 2, 11, 4, 6, 8, 10, 1]"
      ]
     },
     "execution_count": 13,
     "metadata": {},
     "output_type": "execute_result"
    }
   ],
   "source": [
    "X_train"
   ]
  },
  {
   "cell_type": "code",
   "execution_count": null,
   "metadata": {
    "collapsed": true
   },
   "outputs": [],
   "source": [
    "print(\"TRAIN:\", train_index, \"TEST:\", test_index)"
   ]
  },
  {
   "cell_type": "code",
   "execution_count": 11,
   "metadata": {},
   "outputs": [
    {
     "name": "stdout",
     "output_type": "stream",
     "text": [
      "range(0, 12) [0, 0, 0, 0, 0, 0, 1, 1, 1, 1, 1, 1]\n",
      "[0, 2, 11, 4, 6, 8, 10, 1] [0, 0, 1, 0, 1, 1, 1, 0]\n",
      "[7, 5, 9, 3] [1, 0, 1, 0]\n"
     ]
    }
   ],
   "source": [
    "print(X, y)\n",
    "print(X_train, y_train)\n",
    "print(X_test, y_test)"
   ]
  },
  {
   "cell_type": "code",
   "execution_count": 3,
   "metadata": {},
   "outputs": [
    {
     "name": "stdout",
     "output_type": "stream",
     "text": [
      "KFold\n",
      "TRAIN: [ 2  3  4  5  7  8 10 11] TEST: [0 1 6 9]\n",
      "TRAIN: [ 0  1  3  4  6  9 10 11] TEST: [2 5 7 8]\n",
      "TRAIN: [0 1 2 5 6 7 8 9] TEST: [ 3  4 10 11]\n",
      "\n",
      "Shuffle Split\n",
      "TRAIN: [0 1 6 2 9 8 5 7] TEST: [10 11  3  4]\n",
      "TRAIN: [ 6  5  2  8 11  0 10  4] TEST: [1 3 7 9]\n",
      "TRAIN: [11  4  9 10  3  1  0  7] TEST: [8 6 2 5]\n"
     ]
    }
   ],
   "source": [
    "print(\"KFold\")\n",
    "kfold = StratifiedKFold(n_splits=splits, shuffle=True, random_state=42)\n",
    "for train_index, test_index in kfold.split(tx, ty):\n",
    "    print(\"TRAIN:\", train_index, \"TEST:\", test_index)\n",
    "\n",
    "print(\"\\nShuffle Split\")\n",
    "shufflesplit = StratifiedShuffleSplit(n_splits=splits, test_size=1/3, random_state=42)\n",
    "for train_index, test_index in shufflesplit.split(tx, ty):\n",
    "    print(\"TRAIN:\", train_index, \"TEST:\", test_index)"
   ]
  },
  {
   "cell_type": "code",
   "execution_count": null,
   "metadata": {
    "collapsed": true
   },
   "outputs": [],
   "source": []
  }
 ],
 "metadata": {
  "kernelspec": {
   "display_name": "Python 3",
   "language": "python",
   "name": "python3"
  },
  "language_info": {
   "codemirror_mode": {
    "name": "ipython",
    "version": 3
   },
   "file_extension": ".py",
   "mimetype": "text/x-python",
   "name": "python",
   "nbconvert_exporter": "python",
   "pygments_lexer": "ipython3",
   "version": "3.7.2"
  }
 },
 "nbformat": 4,
 "nbformat_minor": 2
}
